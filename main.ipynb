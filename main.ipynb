{
 "cells": [
  {
   "cell_type": "code",
   "execution_count": 1,
   "metadata": {},
   "outputs": [],
   "source": [
    "from timeit import timeit"
   ]
  },
  {
   "cell_type": "code",
   "execution_count": 2,
   "metadata": {},
   "outputs": [
    {
     "name": "stdout",
     "output_type": "stream",
     "text": [
      "4.500000000007276e-05\n"
     ]
    }
   ],
   "source": [
    "print(timeit(setup = \"from main import ack\", stmt = \"ack(0, 1)\", number = 100))"
   ]
  },
  {
   "cell_type": "code",
   "execution_count": 3,
   "metadata": {},
   "outputs": [
    {
     "name": "stdout",
     "output_type": "stream",
     "text": [
      "9.569999999925471e-05\n"
     ]
    }
   ],
   "source": [
    "print(timeit(setup = \"from main import ack\", stmt = \"ack(1, 1)\", number = 100))"
   ]
  },
  {
   "cell_type": "code",
   "execution_count": 4,
   "metadata": {},
   "outputs": [
    {
     "name": "stdout",
     "output_type": "stream",
     "text": [
      "0.000563700000000722\n"
     ]
    }
   ],
   "source": [
    "print(timeit(setup = \"from main import ack\", stmt = \"ack(2, 2)\", number = 100))"
   ]
  },
  {
   "cell_type": "code",
   "execution_count": 5,
   "metadata": {},
   "outputs": [
    {
     "name": "stdout",
     "output_type": "stream",
     "text": [
      "0.05868849999999881\n"
     ]
    }
   ],
   "source": [
    "print(timeit(setup = \"from main import ack\", stmt = \"ack(3, 3)\", number = 100))"
   ]
  },
  {
   "cell_type": "code",
   "execution_count": 6,
   "metadata": {},
   "outputs": [],
   "source": [
    "print(timeit(setup = \"from main import ack\", stmt = \"ack(4, 3)\", number = 100))"
   ]
  },
  {
   "cell_type": "markdown",
   "metadata": {},
   "source": [
    "You may ask yourself why didn't it run, well, this is because jupyter's kernel died because the recursion is too deep..."
   ]
  }
 ],
 "metadata": {
  "kernelspec": {
   "display_name": "Python 3",
   "language": "python",
   "name": "python3"
  },
  "language_info": {
   "codemirror_mode": {
    "name": "ipython",
    "version": 3
   },
   "file_extension": ".py",
   "mimetype": "text/x-python",
   "name": "python",
   "nbconvert_exporter": "python",
   "pygments_lexer": "ipython3",
   "version": "3.8.3"
  }
 },
 "nbformat": 4,
 "nbformat_minor": 2
}
